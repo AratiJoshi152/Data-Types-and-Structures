{
  "nbformat": 4,
  "nbformat_minor": 0,
  "metadata": {
    "colab": {
      "provenance": []
    },
    "kernelspec": {
      "name": "python3",
      "display_name": "Python 3"
    },
    "language_info": {
      "name": "python"
    }
  },
  "cells": [
    {
      "cell_type": "markdown",
      "source": [
        "**Data Types and Structures Questions**"
      ],
      "metadata": {
        "id": "-PCbWIX-ceoW"
      }
    },
    {
      "cell_type": "markdown",
      "source": [
        "1. What are data structures, and why are they important?\n",
        "\n",
        "Ans.\n",
        "* Data structure is a way od organizing and storing a data so that it can be accessed and manipulated efficiently.\n",
        "* Choosing the right data structure significantly impact the efficiency and performance of the program\n",
        "* Well-choosen Data structure can:\n",
        "  - simplify data manipulation (adding, removing, modifying elements)\n",
        "   - Optimize searching and storing operation\n",
        "   - conserve memory usage.\n"
      ],
      "metadata": {
        "id": "p-rXG-pEcn0W"
      }
    },
    {
      "cell_type": "markdown",
      "source": [
        "2. Explain the difference between mutable and immutable data types with examples?\n",
        "ans.\n",
        "* Mutable Data Types:\n",
        "  - Objects/containers whose state or value can be changed after they are created.\n",
        "  - if mutable object changed, the object's content is updated. No new object is created\n",
        "  - examples in python: list, dict, set\n",
        "* Immutable Data Types:\n",
        "  - Objects/containers whose state or value cannot be changed/modified after they are created.\n",
        "  - If we try to modify an immutable object, a new object is created in memory with the updated value.\n",
        "  - Examples in python: tuple, int, str, float"
      ],
      "metadata": {
        "id": "MSAr8jzucnw0"
      }
    },
    {
      "cell_type": "markdown",
      "source": [
        "3. What are the main differences between lists and tuples in Python?\n",
        "\n",
        "Ans.\n",
        "* List:\n",
        "  - Lists are ordered, mutable collection of elements.\n",
        "  - List can hold items of various data types (numbers, strings, other lists)\n",
        "  - Lists can add, remove or modify elements within a list using indexing and slicing.\n",
        "  - Lists are versatile for storing and managing collections that might change.\n",
        "* Tuple:\n",
        "  - Tuples are ordered, immutable collections of elements.\n",
        "  - Similar to lists. However, once created the items in a tuple cannot be changed\n",
        "  - They provide a secure way to store data that shouldn't be modified.\n",
        "  - Tuples can access elements using indexing and slicing, but cannot modify the content.\n",
        "  - Tuples are useful for representing fixed datasets or configurations.\n"
      ],
      "metadata": {
        "id": "XzIK0SdVcnuW"
      }
    },
    {
      "cell_type": "markdown",
      "source": [
        "4. Describe how dictionaries store data?\n",
        "\n",
        "Ans.\n",
        "* Dictionaries stores the data in the form of 'key' and 'value' pair.\n",
        "* Unique key-value pairs: Each key acts as a unique identifier for retrieving an associated value.\n",
        "* key and values can be of various data types (string, numbers, lists and other dictionaries also).\n"
      ],
      "metadata": {
        "id": "HeBh5HFocnr-"
      }
    },
    {
      "cell_type": "markdown",
      "source": [
        "5. Why might you use a set instead of a list in Python?\n",
        "\n",
        "Ans.\n",
        "* Lists are ordered, mutable collections of elements. List allows the duplicate values.\n",
        "* sets are unordered collections of unique elements.\n",
        "* set dont allow the duplicate entries."
      ],
      "metadata": {
        "id": "8JdXBKQ8cnph"
      }
    },
    {
      "cell_type": "markdown",
      "source": [
        "6. What is a string in Python, and how is it different from a list?\n",
        "\n",
        "Ans.\n",
        "* String:\n",
        "  - String, characters arranged in an unchangeable order.\n",
        "  - Each character in a string can be accessed by its index, or position\n",
        "  - Substrings can be extracted using slicing.\n",
        "  - Strings can be joined together and altered using variety of techniques(find, replace)\n",
        "* Lists are mutable and string is immutable, means once defined we cannot change the string value."
      ],
      "metadata": {
        "id": "73F6dDUfcnmg"
      }
    },
    {
      "cell_type": "markdown",
      "source": [
        "7. How do tuples ensure data integrity in Python?\n",
        "\n",
        "Ans.\n",
        "* Tuples are immutable, once created, their contents cannot be changed (no adding, removing, or modifying elements).\n",
        "* This prevents accidental modifications, ensuring that the data stays consistent throughout the program.\n",
        "* Because tuples are immutable, they can be used as keys in dictionaries or as elements in a set.\n",
        "* This guarantees that key values don’t change unexpectedly, maintaining dictionary/set integrity.\n",
        "* Tuples are often used for fixed collections of data. Since the data won’t change, we can trust that it remains consistent wherever we pass it in the program.\n",
        "* In multi-threaded environments, immutable objects like tuples are safer since no thread can alter their contents, avoiding race conditions."
      ],
      "metadata": {
        "id": "NFCokS2Icnjp"
      }
    },
    {
      "cell_type": "markdown",
      "source": [
        "8. What is a hash table, and how does it relate to dictionaries in Python?\n",
        "\n",
        "Ans.\n",
        "* A hash table is a data structure that stores data in key–value pairs.\n",
        "* It uses a hash function to convert each key into an index (hash code), which determines where the corresponding value is stored in memory.\n",
        "* This allows for fast lookups, insertions, and deletions (on average O(1) time complexity).\n",
        "\n",
        "* How it Works\n",
        "  - A key is given (e.g., \"name\").\n",
        "  - The hash function converts it into an integer (hash value).\n",
        "  - That hash value is mapped to an index in an array (bucket).\n",
        "  - The value is stored at that index.\n",
        "\n",
        "* In Python, the built-in dict type is implemented using a hash table.\n",
        "\n",
        "my_dict = {\"name\": \"Ajay\", \"age\": 25}\n",
        "\n",
        "\"name\" and \"age\" are keys.\n",
        "\"Ajay\" and 25 are values.\n",
        "\n",
        "* Python’s internal hash function (hash()) determines where \"name\" and \"age\" are stored in memory."
      ],
      "metadata": {
        "id": "_OPeLIOPcngo"
      }
    },
    {
      "cell_type": "markdown",
      "source": [
        "9. Can lists contain different data types in Python?\n",
        "\n",
        "Ans.\n",
        "* List is a ordered collection of elements that can be of any data type.\n",
        "* List can store anything, it stores heterogenous data.\n"
      ],
      "metadata": {
        "id": "HYdsRv36cndZ"
      }
    },
    {
      "cell_type": "markdown",
      "source": [
        "10. Explain why strings are immutable in Python?\n",
        "\n",
        "Ans.\n",
        "* Strings in Python are immutable to ensure memory efficiency, hashability, data integrity, security, and thread-safety.\n",
        "* Python reuses immutable string objects to save memory (called string interning).\n",
        "* Strings are hashable because they don’t change.\n",
        "* This allows strings to be used as keys in dictionaries or as elements in sets.\n",
        "* If strings were mutable, their hash value could change after modification, breaking dictionary/set lookups.\n",
        "* Immutability ensures strings remain safe and consistent across the program.\n",
        "* If a string representing critical data (like a filename or password) could be changed, it might cause bugs or security issues.\n",
        "* Since strings can’t be modified, they are inherently thread-safe.\n",
        "* Multiple threads can use the same string without risk of one thread modifying it for others."
      ],
      "metadata": {
        "id": "fTV_i-NidB3u"
      }
    },
    {
      "cell_type": "markdown",
      "source": [
        "11. What advantages do dictionaries offer over lists for certain tasks?\n",
        "\n",
        "Ans.\n",
        "* Dictionaries store data as key–value pairs, making information clearer than list indices.\n",
        "* Dictionaries allow flexible keys (strings, numbers, tuples), whereas lists use only integer indexes.\n",
        "* Dictionaries make updates and deletions more efficient because they are key-based.\n",
        "* Dictionaries handle sparse data better since only existing keys are stored, unlike lists with many empty slots.\n",
        "* Dictionaries provide fast lookups (O(1)), while lists require slower linear searches (O(n)).\n"
      ],
      "metadata": {
        "id": "SYyGQmkOcnZU"
      }
    },
    {
      "cell_type": "markdown",
      "source": [
        "12. Describe a scenario where using a tuple would be preferable over a list?\n",
        "\n",
        "Ans.\n",
        "* If need to store constant values like the days of the week (\"Mon\", \"Tue\", \"Wed\", \"Thu\", \"Fri\", \"Sat\", \"Sun\"), using a tuple is preferable over a list.\n",
        "* Reasons:\n",
        "  - Days of the week never change → immutability ensures data integrity.\n",
        "  - Tuples are more memory efficient than lists.\n",
        "  - Using a tuple prevents accidental modification of constant data."
      ],
      "metadata": {
        "id": "UOdnkypIcnVR"
      }
    },
    {
      "cell_type": "markdown",
      "source": [
        "13. How do sets handle duplicate values in Python?\n",
        "\n",
        "Ans.\n",
        "* Sets in Python are collections of unique elements.\n",
        "* When we try to add a duplicate value, Python automatically ignores it — it will not store multiple copies.\n",
        "* This ensures that a set always contains unique items.\n"
      ],
      "metadata": {
        "id": "1t6209CvcnSJ"
      }
    },
    {
      "cell_type": "markdown",
      "source": [
        "14. How does the “in” keyword work differently for lists and dictionaries?\n",
        "\n",
        "Ans.\n",
        "* List:\n",
        "  - When we use in with a list, Python checks if the value exists among the elements.\n",
        "  - This involves a linear search (O(n)) through the list.\n",
        "* Dictionary:\n",
        "  - When we use in with a dictionary, Python checks for the presence of a key, not a value.\n",
        "  - Dictionary lookups are fast (O(1) on average) because dictionaries use hash tables."
      ],
      "metadata": {
        "id": "xfrIk2gVdM8h"
      }
    },
    {
      "cell_type": "markdown",
      "source": [
        "15. Can you modify the elements of a tuple? Explain why or why not?\n",
        "\n",
        "Ans.\n",
        "* No, we cannot modify elements of a tuple directly.\n",
        "* Reason: Tuples are immutable in Python, meaning once a tuple is created, its contents cannot be changed, added, or removed.\n",
        "* Data Integrity – Prevents accidental modification of important, fixed data.\n",
        "* Hashability – Immutable tuples can be used as dictionary keys or set elements, which wouldn’t be possible if they could change.\n",
        "* Performance – Tuples are slightly faster and more memory-efficient than lists.\n",
        "* Exception\n",
        "  - If a tuple contains a mutable object (like a list), we can modify the contents of that object, but not the tuple structure itself\n",
        "\n",
        "    my_tuple = ([1, 2], 3)\n",
        "\n",
        "    my_tuple[0].append(3)\n",
        "\n",
        "    print(my_tuple)         # ([1, 2, 3], 3)"
      ],
      "metadata": {
        "id": "xL4Jpl5-dOyS"
      }
    },
    {
      "cell_type": "markdown",
      "source": [
        "16. What is a nested dictionary, and give an example of its use case?\n",
        "\n",
        "Ans.\n",
        "* A nested dictionary is a dictionary inside another dictionary.\n",
        "* It allows to store more complex, hierarchical data.\n",
        "* Example:\n",
        "  - student = {\n",
        "    \"name\": \"Arati\",\n",
        "    \"age\": 25,\n",
        "    \"marks\": {\n",
        "        \"Math\": 90,\n",
        "        \"Science\": 85,\n",
        "        \"English\": 88\n",
        "    }\n",
        "}\n",
        "* Use Case: Nested dictionaries are useful when we need to represent structured data, like:\n",
        "  - Student records (personal info + subject marks)\n",
        "  - Company employees (employee info + salary, department, projects\n",
        "  - Configuration settings (sections → settings → values)\n",
        "  - Example – Company employees:\n",
        "    - employees = {\n",
        "         \"E001\": {\"name\": \"Ravi\", \"department\": \"HR\", \"salary\": 50000},\n",
        "          \"E002\": {\"name\": \"Neha\", \"department\": \"IT\", \"salary\": 60000}\n",
        "     }\n",
        "     \n",
        "     print(employees[\"E002\"][\"department\"])  # IT"
      ],
      "metadata": {
        "id": "Cp2UBanydOvH"
      }
    },
    {
      "cell_type": "markdown",
      "source": [
        "17. Describe the time complexity of accessing elements in a dictionary?\n",
        "\n",
        "Ans.\n",
        "* Accessing elements by key in a Python dictionary is on average O(1) – constant time.\n",
        "* Reason: Python dictionaries are implemented using hash tables. When we access a key:\n",
        "* Python computes the hash value of the key.\n",
        "* It uses this hash to directly locate the memory index where the value is stored.\n",
        "* This avoids scanning the entire dictionary, unlike lists, which take O(n) for search.\n",
        "* In rare cases of hash collisions, the lookup can degrade to O(n).However, Python handles collisions efficiently, so average lookup is still O(1)."
      ],
      "metadata": {
        "id": "6ahcP2nqdOno"
      }
    },
    {
      "cell_type": "markdown",
      "source": [
        "18. In what situations are lists preferred over dictionaries?\n",
        "\n",
        "Ans.\n",
        "* Ordered Data Storage: Lists maintain the order of elements, making them ideal when the sequence matters.\n",
        "* Index-Based Access: When we need to access elements by position (index) rather than by key, lists are simpler.\n",
        "* Sequential Iteration: For looping through items in order, lists are easier to use and more readable.\n",
        "* Homogeneous Data: When storing a collection of similar items (e.g., all integers, all strings), lists are more natural.\n",
        "* Memory Efficiency for Small Collections: For small datasets without the need for key-based access, lists use less memory than dictionaries."
      ],
      "metadata": {
        "id": "rzR-wNoHdOkS"
      }
    },
    {
      "cell_type": "markdown",
      "source": [
        "19. Why are dictionaries considered unordered, and how does that affect data retrieval?\n",
        "\n",
        "Ans.\n",
        "* Traditionally, Python dictionaries were unordered, meaning the items had no guaranteed order.\n",
        "* The internal implementation uses a hash table, which stores elements based on their hash values, not the order of insertion.\n",
        "* As a result, iterating through a dictionary could return items in any order.\n",
        "Note: Since Python 3.7+, dictionaries preserve insertion order, but they are still technically unordered from a conceptual perspective because the order is not part of the dictionary’s data model—it’s an implementation detail.\n",
        "* Effect on Data Retrieval\n",
        "  1. Key-Based Access Only: we cannot rely on the order of items for retrieval; we must always access values via keys.\n",
        "  2. Iteration Order May Differ (older Python versions): Loops over dictionaries may return keys in unexpected order, so algorithms depending on sequence may fail.\n",
        "  3. Use Cases: Since dictionaries are key-focused, they are ideal for fast lookups, mapping, and sparse data, but not for tasks that require ordered sequences (for that, use list or OrderedDict in older versions)."
      ],
      "metadata": {
        "id": "99npii4edOa5"
      }
    },
    {
      "cell_type": "markdown",
      "source": [
        "20. Explain the difference between a list and a dictionary in terms of data retrieval.\n",
        "\n",
        "Ans.\n",
        "* List\n",
        "  - In a list, elements are accessed using their position index, and searching for a value requires checking each element one by one, which takes linear time.\n",
        "  - Lists maintain the insertion order of elements, making them suitable for storing ordered sequences and performing index-based retrieval.\n",
        "* Dictionary\n",
        "  - In a dictionary, elements are accessed using their unique keys, which allows for very fast lookups on average due to the underlying hash table implementation.\n",
        "  - Dictionaries are conceptually unordered (though Python 3.7+ preserves insertion order), making them ideal for key–value mapping and fast retrieval of data by key."
      ],
      "metadata": {
        "id": "5KNAHMF7dOUF"
      }
    },
    {
      "cell_type": "code",
      "execution_count": null,
      "metadata": {
        "colab": {
          "base_uri": "https://localhost:8080/"
        },
        "id": "XDqVDux-cSWv",
        "outputId": "9f80bb33-7cef-4ac4-879a-c4fb586d188b"
      },
      "outputs": [
        {
          "output_type": "stream",
          "name": "stdout",
          "text": [
            "Arati\n"
          ]
        }
      ],
      "source": [
        "#1. Write a code to create a string with your name and print it?\n",
        "name = \"Arati\"\n",
        "print(name)"
      ]
    },
    {
      "cell_type": "code",
      "source": [
        "#2. Write a code to find the length of the string \"Hello World\"?\n",
        "len(\"Hello World\")"
      ],
      "metadata": {
        "colab": {
          "base_uri": "https://localhost:8080/"
        },
        "id": "AM9hhhnddew7",
        "outputId": "51852d64-2e2a-47c4-a710-4d4ebe552238"
      },
      "execution_count": null,
      "outputs": [
        {
          "output_type": "execute_result",
          "data": {
            "text/plain": [
              "11"
            ]
          },
          "metadata": {},
          "execution_count": 2
        }
      ]
    },
    {
      "cell_type": "code",
      "source": [
        "#3. Write a code to slice the first 3 characters from the string \"Python Programming\"\n",
        "string1 = \"Python Programming\"\n",
        "string1[0:3]"
      ],
      "metadata": {
        "colab": {
          "base_uri": "https://localhost:8080/",
          "height": 36
        },
        "id": "k8daM4J8deny",
        "outputId": "b85b5a96-4498-4a49-cacb-a8828c6245c6"
      },
      "execution_count": null,
      "outputs": [
        {
          "output_type": "execute_result",
          "data": {
            "text/plain": [
              "'Pyt'"
            ],
            "application/vnd.google.colaboratory.intrinsic+json": {
              "type": "string"
            }
          },
          "metadata": {},
          "execution_count": 4
        }
      ]
    },
    {
      "cell_type": "code",
      "source": [
        "#4. Write a code to convert the string \"hello\" to uppercase\n",
        "string1 = \"hello\"\n",
        "string1.upper()"
      ],
      "metadata": {
        "colab": {
          "base_uri": "https://localhost:8080/",
          "height": 36
        },
        "id": "tL9RIkpEdegA",
        "outputId": "f8f483c6-3f49-4f27-a999-874221bee158"
      },
      "execution_count": null,
      "outputs": [
        {
          "output_type": "execute_result",
          "data": {
            "text/plain": [
              "'HELLO'"
            ],
            "application/vnd.google.colaboratory.intrinsic+json": {
              "type": "string"
            }
          },
          "metadata": {},
          "execution_count": 5
        }
      ]
    },
    {
      "cell_type": "code",
      "source": [
        "#5. Write a code to replace the word \"apple\" with \"orange\" in the string \"I like apple\"\n",
        "string1 = \"I like apple\"\n",
        "string1.replace(\"apple\",\"orange\")\n"
      ],
      "metadata": {
        "colab": {
          "base_uri": "https://localhost:8080/",
          "height": 36
        },
        "id": "H5bIMoy4deXJ",
        "outputId": "acc3fa4f-a37b-443c-d8f0-a158e088bd3e"
      },
      "execution_count": null,
      "outputs": [
        {
          "output_type": "execute_result",
          "data": {
            "text/plain": [
              "'I like orange'"
            ],
            "application/vnd.google.colaboratory.intrinsic+json": {
              "type": "string"
            }
          },
          "metadata": {},
          "execution_count": 7
        }
      ]
    },
    {
      "cell_type": "code",
      "source": [
        "#6. Write a code to create a list with numbers 1 to 5 and print it\n",
        "my_list = [x for x in range(1,6)]\n",
        "print(my_list)"
      ],
      "metadata": {
        "colab": {
          "base_uri": "https://localhost:8080/"
        },
        "id": "JxxPmvnJdeOy",
        "outputId": "f641f8f7-0e61-4290-9d1f-477c8d379a8c"
      },
      "execution_count": null,
      "outputs": [
        {
          "output_type": "stream",
          "name": "stdout",
          "text": [
            "[1, 2, 3, 4, 5]\n"
          ]
        }
      ]
    },
    {
      "cell_type": "code",
      "source": [
        "#7. Write a code to append the number 10 to the list [1, 2, 3, 4]\n",
        "list1 = [1, 2, 3, 4]\n",
        "list1.append(10)\n",
        "print(list1)"
      ],
      "metadata": {
        "colab": {
          "base_uri": "https://localhost:8080/"
        },
        "id": "VcxhT23QdeGv",
        "outputId": "5fa85abc-7364-4dd2-ca1a-1b5b06faab44"
      },
      "execution_count": null,
      "outputs": [
        {
          "output_type": "stream",
          "name": "stdout",
          "text": [
            "[1, 2, 3, 4, 10]\n"
          ]
        }
      ]
    },
    {
      "cell_type": "code",
      "source": [
        "#8. Write a code to remove the number 3 from the list [1, 2, 3, 4, 5]\n",
        "list1 = [1, 2, 3, 4, 5]\n",
        "list1.remove(3)\n",
        "print(list1)"
      ],
      "metadata": {
        "colab": {
          "base_uri": "https://localhost:8080/"
        },
        "id": "blaK2K75dd-p",
        "outputId": "9ad59ce7-e7be-4493-a3b4-d0e06caa6ea5"
      },
      "execution_count": null,
      "outputs": [
        {
          "output_type": "stream",
          "name": "stdout",
          "text": [
            "[1, 2, 4, 5]\n"
          ]
        }
      ]
    },
    {
      "cell_type": "code",
      "source": [
        "#9. Write a code to access the second element in the list ['a', 'b', 'c', 'd']P\n",
        "list1 = [\"a\", \"b\", \"c\", \"d\"]\n",
        "list1[1]"
      ],
      "metadata": {
        "colab": {
          "base_uri": "https://localhost:8080/",
          "height": 36
        },
        "id": "fm1f2z6add2D",
        "outputId": "75f67ab7-f9b3-4ad4-ddf3-808ce57fed2b"
      },
      "execution_count": null,
      "outputs": [
        {
          "output_type": "execute_result",
          "data": {
            "text/plain": [
              "'b'"
            ],
            "application/vnd.google.colaboratory.intrinsic+json": {
              "type": "string"
            }
          },
          "metadata": {},
          "execution_count": 17
        }
      ]
    },
    {
      "cell_type": "code",
      "source": [
        "#10. Write a code to reverse the list [10, 20, 30, 40, 50].\n",
        "list1 = [10, 20, 30, 40, 50]\n",
        "list1.reverse()\n",
        "list1"
      ],
      "metadata": {
        "colab": {
          "base_uri": "https://localhost:8080/"
        },
        "id": "dN4a-jgmdduA",
        "outputId": "3446cbcf-2877-4559-9cf9-08af24520f1d"
      },
      "execution_count": null,
      "outputs": [
        {
          "output_type": "execute_result",
          "data": {
            "text/plain": [
              "[50, 40, 30, 20, 10]"
            ]
          },
          "metadata": {},
          "execution_count": 18
        }
      ]
    },
    {
      "cell_type": "code",
      "source": [
        "#11. Write a code to create a tuple with the elements 100, 200, 300 and print it.\n",
        "tuple1 = (100, 200, 300)\n",
        "print(tuple1)"
      ],
      "metadata": {
        "colab": {
          "base_uri": "https://localhost:8080/"
        },
        "id": "4e-kccJhddne",
        "outputId": "d6841681-b4a4-4b68-ec3a-c4d12f7ed3e6"
      },
      "execution_count": null,
      "outputs": [
        {
          "output_type": "stream",
          "name": "stdout",
          "text": [
            "(100, 200, 300)\n"
          ]
        }
      ]
    },
    {
      "cell_type": "code",
      "source": [
        "#12. Write a code to access the second-to-last element of the tuple ('red', 'green', 'blue', 'yellow').\n",
        "tuple1 = (\"red\", \"green\", \"blue\", \"yellow\")\n",
        "tuple1[1:]"
      ],
      "metadata": {
        "colab": {
          "base_uri": "https://localhost:8080/"
        },
        "id": "8vzCzkCzdde5",
        "outputId": "5047b12b-5ad9-416c-89c7-6c7612d526a6"
      },
      "execution_count": null,
      "outputs": [
        {
          "output_type": "execute_result",
          "data": {
            "text/plain": [
              "('green', 'blue', 'yellow')"
            ]
          },
          "metadata": {},
          "execution_count": 20
        }
      ]
    },
    {
      "cell_type": "code",
      "source": [
        "#13. Write a code to find the minimum number in the tuple (10, 20, 5, 15).\n",
        "tuple1 = (10, 20, 5, 15)\n",
        "min(tuple1)"
      ],
      "metadata": {
        "colab": {
          "base_uri": "https://localhost:8080/"
        },
        "id": "CnqwheFMddYr",
        "outputId": "9bac431a-6fce-49a1-bbb7-7f8a7d333f61"
      },
      "execution_count": null,
      "outputs": [
        {
          "output_type": "execute_result",
          "data": {
            "text/plain": [
              "5"
            ]
          },
          "metadata": {},
          "execution_count": 22
        }
      ]
    },
    {
      "cell_type": "code",
      "source": [
        "#14. Write a code to find the index of the element \"cat\" in the tuple ('dog', 'cat', 'rabbit').\n",
        "tuple1 = (\"dog\", \"cat\", \"rabbit\")\n",
        "tuple1.index(\"cat\")"
      ],
      "metadata": {
        "colab": {
          "base_uri": "https://localhost:8080/"
        },
        "id": "fjqcSJOjddR2",
        "outputId": "13e5d9d8-7ba4-40de-fc83-927f369a5159"
      },
      "execution_count": null,
      "outputs": [
        {
          "output_type": "execute_result",
          "data": {
            "text/plain": [
              "1"
            ]
          },
          "metadata": {},
          "execution_count": 25
        }
      ]
    },
    {
      "cell_type": "code",
      "source": [
        "#15. Write a code to create a tuple containing three different fruits and check if \"kiwi\" is in it.\n",
        "fruits = (\"apple\", \"banana\", \"orange\", \"kiwi\")\n",
        "\"kiwi\" in fruits"
      ],
      "metadata": {
        "colab": {
          "base_uri": "https://localhost:8080/"
        },
        "id": "MDGZ4u7eddKU",
        "outputId": "b878bd5e-3626-4ed7-984b-f8b14937015a"
      },
      "execution_count": null,
      "outputs": [
        {
          "output_type": "execute_result",
          "data": {
            "text/plain": [
              "True"
            ]
          },
          "metadata": {},
          "execution_count": 27
        }
      ]
    },
    {
      "cell_type": "code",
      "source": [
        "#16. Write a code to create a set with the elements 'a', 'b', 'c' and print it.\n",
        "set1 = {\"a\", \"b\", \"c\"}\n",
        "print(set1)"
      ],
      "metadata": {
        "colab": {
          "base_uri": "https://localhost:8080/"
        },
        "id": "NwUGwLyyddCx",
        "outputId": "87172d1d-5f02-4fe8-ddcf-91788fff0d92"
      },
      "execution_count": null,
      "outputs": [
        {
          "output_type": "stream",
          "name": "stdout",
          "text": [
            "{'b', 'a', 'c'}\n"
          ]
        }
      ]
    },
    {
      "cell_type": "code",
      "source": [
        "#17. Write a code to clear all elements from the set {1, 2, 3, 4, 5}.\n",
        "set2 = {1, 2, 3, 4, 5}\n",
        "set2.clear()\n",
        "set2"
      ],
      "metadata": {
        "colab": {
          "base_uri": "https://localhost:8080/"
        },
        "id": "Szw6Z-AQdc8h",
        "outputId": "3a58dd44-fa49-4a6a-807e-4bf2f19bf33e"
      },
      "execution_count": null,
      "outputs": [
        {
          "output_type": "execute_result",
          "data": {
            "text/plain": [
              "set()"
            ]
          },
          "metadata": {},
          "execution_count": 34
        }
      ]
    },
    {
      "cell_type": "code",
      "source": [
        "#18. Write a code to remove the element 4 from the set {1, 2, 3, 4}.\n",
        "num = {1, 2, 3, 4}\n",
        "num.remove(4)\n",
        "num"
      ],
      "metadata": {
        "colab": {
          "base_uri": "https://localhost:8080/"
        },
        "id": "fFdFbw3Ndc2B",
        "outputId": "8a87340c-8665-4b54-fa62-01f1acc64147"
      },
      "execution_count": null,
      "outputs": [
        {
          "output_type": "execute_result",
          "data": {
            "text/plain": [
              "{1, 2, 3}"
            ]
          },
          "metadata": {},
          "execution_count": 36
        }
      ]
    },
    {
      "cell_type": "code",
      "source": [
        "#19. Write a code to find the union of two sets {1, 2, 3} and {3, 4, 5}.\n",
        "set1 = {1, 2, 3}\n",
        "set2 = {3, 4, 5}\n",
        "set1 | set2"
      ],
      "metadata": {
        "colab": {
          "base_uri": "https://localhost:8080/"
        },
        "id": "azmJR1Ojdcv8",
        "outputId": "46798617-6c51-428b-a14d-97f1cefff259"
      },
      "execution_count": null,
      "outputs": [
        {
          "output_type": "execute_result",
          "data": {
            "text/plain": [
              "{1, 2, 3, 4, 5}"
            ]
          },
          "metadata": {},
          "execution_count": 37
        }
      ]
    },
    {
      "cell_type": "code",
      "source": [
        "#20. Write a code to find the intersection of two sets {1, 2, 3} and {2, 3, 4}.\n",
        "set1 = {1, 2, 3}\n",
        "set2 = {2, 3, 4}\n",
        "set1 & set2"
      ],
      "metadata": {
        "colab": {
          "base_uri": "https://localhost:8080/"
        },
        "id": "mbHpOfvCdcpi",
        "outputId": "4d0de1c2-3ec8-496d-8742-3103f3a1a07a"
      },
      "execution_count": null,
      "outputs": [
        {
          "output_type": "execute_result",
          "data": {
            "text/plain": [
              "{2, 3}"
            ]
          },
          "metadata": {},
          "execution_count": 38
        }
      ]
    },
    {
      "cell_type": "code",
      "source": [
        "#21. Write a code to create a dictionary with the keys \"name\", \"age\", and \"city\", and print it.\n",
        "my_dict = {\"name\": \"Ajay\", \"age\": 25, \"city\": \"pune\"}\n",
        "print(my_dict)"
      ],
      "metadata": {
        "colab": {
          "base_uri": "https://localhost:8080/"
        },
        "id": "BkwdcoJ9dci7",
        "outputId": "a18f03b8-8998-45a9-8253-be6bfe3a8c58"
      },
      "execution_count": null,
      "outputs": [
        {
          "output_type": "stream",
          "name": "stdout",
          "text": [
            "{'name': 'Ajay', 'age': 25, 'city': 'pune'}\n"
          ]
        }
      ]
    },
    {
      "cell_type": "code",
      "source": [
        "#22. Write a code to add a new key-value pair \"country\": \"USA\" to the dictionary {'name': 'John', 'age': 25}.\n",
        "my_dict1 = {\"name\": \"John\", \"age\": 25}\n",
        "my_dict1[\"country\"] = \"USA\"\n",
        "my_dict1"
      ],
      "metadata": {
        "colab": {
          "base_uri": "https://localhost:8080/"
        },
        "id": "TbbHqttzdcdA",
        "outputId": "90d09d2d-3c99-4841-beb6-fdecc64f1f05"
      },
      "execution_count": null,
      "outputs": [
        {
          "output_type": "execute_result",
          "data": {
            "text/plain": [
              "{'name': 'John', 'age': 25, 'country': 'USA'}"
            ]
          },
          "metadata": {},
          "execution_count": 40
        }
      ]
    },
    {
      "cell_type": "code",
      "source": [
        "#23. Write a code to access the value associated with the key \"name\" in the dictionary {'name': 'Alice', 'age': 30}.\n",
        "my_dict2 = {\"name\": \"Alice\", \"age\": 30}\n",
        "my_dict2[\"name\"]"
      ],
      "metadata": {
        "colab": {
          "base_uri": "https://localhost:8080/",
          "height": 36
        },
        "id": "CQgdmqmEdcWw",
        "outputId": "beec98a3-d012-42da-af26-c33bff9cbf50"
      },
      "execution_count": null,
      "outputs": [
        {
          "output_type": "execute_result",
          "data": {
            "text/plain": [
              "'Alice'"
            ],
            "application/vnd.google.colaboratory.intrinsic+json": {
              "type": "string"
            }
          },
          "metadata": {},
          "execution_count": 41
        }
      ]
    },
    {
      "cell_type": "code",
      "source": [
        "#24. Write a code to remove the key \"age\" from the dictionary {'name': 'Bob', 'age': 22, 'city': 'New York'}.\n",
        "dict1 = {\"name\": \"Bob\", \"age\": 22, \"city\": \"New York\"}\n",
        "dict1.pop(\"age\")\n",
        "dict1"
      ],
      "metadata": {
        "colab": {
          "base_uri": "https://localhost:8080/"
        },
        "id": "adVNQjRndcQh",
        "outputId": "26eb693a-d2ec-4e96-ec47-8f1deb58aaae"
      },
      "execution_count": null,
      "outputs": [
        {
          "output_type": "execute_result",
          "data": {
            "text/plain": [
              "{'name': 'Bob', 'city': 'New York'}"
            ]
          },
          "metadata": {},
          "execution_count": 45
        }
      ]
    },
    {
      "cell_type": "code",
      "source": [
        "#25. Write a code to check if the key \"city\" exists in the dictionary {'name': 'Alice', 'city': 'Paris'}.\n",
        "dict2 = {\"name\": \"Alice\", \"city\": \"Paris\"}\n",
        "if \"city\" in dict2:\n",
        "    print(\"Key 'city' exists in the dictionary.\")\n",
        "else:\n",
        "    print(\"Key 'city' does not exist in the dictionary.\")"
      ],
      "metadata": {
        "colab": {
          "base_uri": "https://localhost:8080/"
        },
        "id": "Ua2jzqlSdcKR",
        "outputId": "972818cb-0f6b-4abd-9aaf-890b7c7ddcfa"
      },
      "execution_count": null,
      "outputs": [
        {
          "output_type": "stream",
          "name": "stdout",
          "text": [
            "Key 'city' exists in the dictionary.\n"
          ]
        }
      ]
    },
    {
      "cell_type": "code",
      "source": [
        "#26. Write a code to create a list, a tuple, and a dictionary, and print them all.\n",
        "my_list = [10, 20, 30, 40]\n",
        "\n",
        "my_tuple = (\"apple\", \"banana\", \"cherry\")\n",
        "\n",
        "my_dict = {\"name\": \"Arati\", \"age\": 25, \"city\": \"Nagpur\"}\n",
        "\n",
        "print(\"List:\", my_list)\n",
        "print(\"Tuple:\", my_tuple)\n",
        "print(\"Dictionary:\", my_dict)\n"
      ],
      "metadata": {
        "colab": {
          "base_uri": "https://localhost:8080/"
        },
        "id": "fDtng5P1dcDf",
        "outputId": "c16ee486-8b1d-4cf0-e960-f7b629cfde00"
      },
      "execution_count": null,
      "outputs": [
        {
          "output_type": "stream",
          "name": "stdout",
          "text": [
            "List: [10, 20, 30, 40]\n",
            "Tuple: ('apple', 'banana', 'cherry')\n",
            "Dictionary: {'name': 'Arati', 'age': 25, 'city': 'Nagpur'}\n"
          ]
        }
      ]
    },
    {
      "cell_type": "code",
      "source": [
        "#27. Write a code to create a list of 5 random numbers between 1 and 100, sort it in ascending order, and print the result.(replaced)\n",
        "import random\n",
        "\n",
        "numbers = [random.randint(1, 100) for i in range(5)]\n",
        "\n",
        "numbers.sort()\n",
        "print(\"Sorted list:\", numbers)\n"
      ],
      "metadata": {
        "colab": {
          "base_uri": "https://localhost:8080/"
        },
        "id": "z-U-iemcdb76",
        "outputId": "c2527b5f-e59b-440e-d5f9-b5818c589270"
      },
      "execution_count": null,
      "outputs": [
        {
          "output_type": "stream",
          "name": "stdout",
          "text": [
            "Sorted list: [18, 33, 38, 52, 53]\n"
          ]
        }
      ]
    },
    {
      "cell_type": "code",
      "source": [
        "#28. Write a code to create a list with strings and print the element at the third index.\n",
        "fruits = [\"apple\", \"banana\", \"cherry\", \"mango\", \"grape\"]\n",
        "\n",
        "print(\"Element at third index:\", fruits[3])"
      ],
      "metadata": {
        "colab": {
          "base_uri": "https://localhost:8080/"
        },
        "id": "WgKMknBLdb0H",
        "outputId": "9473db03-a7ea-4127-8773-96c0a8d208d1"
      },
      "execution_count": null,
      "outputs": [
        {
          "output_type": "stream",
          "name": "stdout",
          "text": [
            "Element at third index: mango\n"
          ]
        }
      ]
    },
    {
      "cell_type": "code",
      "source": [
        "#29. Write a code to combine two dictionaries into one and print the result.\n",
        "dict1 = {\"name\": \"Alice\", \"age\": 25}\n",
        "dict2 = {\"city\": \"Paris\", \"country\": \"France\"}\n",
        "\n",
        "combined_dict = {**dict1, **dict2}\n",
        "\n",
        "print(\"Combined Dictionary:\", combined_dict)"
      ],
      "metadata": {
        "colab": {
          "base_uri": "https://localhost:8080/"
        },
        "id": "8vOJrCk8dbrQ",
        "outputId": "e8aeb5d0-446a-4315-9733-734e6764fe5e"
      },
      "execution_count": null,
      "outputs": [
        {
          "output_type": "stream",
          "name": "stdout",
          "text": [
            "Combined Dictionary: {'name': 'Alice', 'age': 25, 'city': 'Paris', 'country': 'France'}\n"
          ]
        }
      ]
    },
    {
      "cell_type": "code",
      "source": [
        "#30. Write a code to convert a list of strings into a set.\n",
        "fruits = [\"apple\", \"banana\", \"cherry\", \"apple\", \"banana\"]\n",
        "\n",
        "fruits_set = set(fruits)\n",
        "\n",
        "print(\"Original List:\", fruits)\n",
        "print(\"Converted Set:\", fruits_set)"
      ],
      "metadata": {
        "colab": {
          "base_uri": "https://localhost:8080/"
        },
        "id": "SyQ8dt2sdbfy",
        "outputId": "7d9200eb-197a-4bbb-d5cf-647aecfc3a84"
      },
      "execution_count": null,
      "outputs": [
        {
          "output_type": "stream",
          "name": "stdout",
          "text": [
            "Original List: ['apple', 'banana', 'cherry', 'apple', 'banana']\n",
            "Converted Set: {'banana', 'apple', 'cherry'}\n"
          ]
        }
      ]
    }
  ]
}